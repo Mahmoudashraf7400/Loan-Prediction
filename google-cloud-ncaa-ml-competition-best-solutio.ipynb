{
 "cells": [
  {
   "cell_type": "code",
   "execution_count": 1,
   "id": "dc0d0d0d",
   "metadata": {
    "_cell_guid": "b1076dfc-b9ad-4769-8c92-a6c4dae69d19",
    "_uuid": "8f2839f25d086af736a60e9eeb907d3b93b6e0e5",
    "execution": {
     "iopub.execute_input": "2025-08-06T15:53:19.225682Z",
     "iopub.status.busy": "2025-08-06T15:53:19.225299Z",
     "iopub.status.idle": "2025-08-06T15:53:22.993984Z",
     "shell.execute_reply": "2025-08-06T15:53:22.992951Z"
    },
    "papermill": {
     "duration": 3.775733,
     "end_time": "2025-08-06T15:53:22.996081",
     "exception": false,
     "start_time": "2025-08-06T15:53:19.220348",
     "status": "completed"
    },
    "tags": []
   },
   "outputs": [
    {
     "name": "stdout",
     "output_type": "stream",
     "text": [
      "/kaggle/input/mens-machine-learning-competition-2018/Conferences.csv\n",
      "/kaggle/input/mens-machine-learning-competition-2018/GameCities.csv\n",
      "/kaggle/input/mens-machine-learning-competition-2018/MasseyOrdinals.csv\n",
      "/kaggle/input/mens-machine-learning-competition-2018/Events_2010.csv\n",
      "/kaggle/input/mens-machine-learning-competition-2018/Events_2011.csv\n",
      "/kaggle/input/mens-machine-learning-competition-2018/TeamCoaches_Prelim2018.csv\n",
      "/kaggle/input/mens-machine-learning-competition-2018/NCAATourneySlots_SampleTourney2018.csv\n",
      "/kaggle/input/mens-machine-learning-competition-2018/Players_2012.csv\n",
      "/kaggle/input/mens-machine-learning-competition-2018/Players_2017.csv\n",
      "/kaggle/input/mens-machine-learning-competition-2018/RegularSeasonCompactResults.csv\n",
      "/kaggle/input/mens-machine-learning-competition-2018/Events_2017.csv\n",
      "/kaggle/input/mens-machine-learning-competition-2018/Events_2012.csv\n",
      "/kaggle/input/mens-machine-learning-competition-2018/NCAATourneyDetailedResults.csv\n",
      "/kaggle/input/mens-machine-learning-competition-2018/Players_2018.csv\n",
      "/kaggle/input/mens-machine-learning-competition-2018/Events_2013.csv\n",
      "/kaggle/input/mens-machine-learning-competition-2018/Teams.csv\n",
      "/kaggle/input/mens-machine-learning-competition-2018/SecondaryTourneyCompactResults.csv\n",
      "/kaggle/input/mens-machine-learning-competition-2018/TeamSpellings.csv\n",
      "/kaggle/input/mens-machine-learning-competition-2018/Seasons.csv\n",
      "/kaggle/input/mens-machine-learning-competition-2018/RegularSeasonDetailedResults_Prelim2018.csv\n",
      "/kaggle/input/mens-machine-learning-competition-2018/SecondaryTourneyTeams.csv\n",
      "/kaggle/input/mens-machine-learning-competition-2018/SampleSubmissionStage2.csv\n",
      "/kaggle/input/mens-machine-learning-competition-2018/ConferenceTourneyGames.csv\n",
      "/kaggle/input/mens-machine-learning-competition-2018/Events_Prelim2018.csv\n",
      "/kaggle/input/mens-machine-learning-competition-2018/Cities.csv\n",
      "/kaggle/input/mens-machine-learning-competition-2018/SampleSubmissionStage2_SampleTourney2018.csv\n",
      "/kaggle/input/mens-machine-learning-competition-2018/RegularSeasonCompactResults_Prelim2018.csv\n",
      "/kaggle/input/mens-machine-learning-competition-2018/Players_2013.csv\n",
      "/kaggle/input/mens-machine-learning-competition-2018/GameCities_Prelim2018.csv\n",
      "/kaggle/input/mens-machine-learning-competition-2018/TeamCoaches.csv\n",
      "/kaggle/input/mens-machine-learning-competition-2018/RegularSeasonDetailedResults.csv\n",
      "/kaggle/input/mens-machine-learning-competition-2018/Players_2010.csv\n",
      "/kaggle/input/mens-machine-learning-competition-2018/NCAATourneyCompactResults.csv\n",
      "/kaggle/input/mens-machine-learning-competition-2018/Cities_Prelim2018.csv\n",
      "/kaggle/input/mens-machine-learning-competition-2018/MasseyOrdinals_thruSeason2018_Day128.csv\n",
      "/kaggle/input/mens-machine-learning-competition-2018/Players_Prelim2018.csv\n",
      "/kaggle/input/mens-machine-learning-competition-2018/NCAATourneySeeds.csv\n",
      "/kaggle/input/mens-machine-learning-competition-2018/Events_2018.csv\n",
      "/kaggle/input/mens-machine-learning-competition-2018/Players_2011.csv\n",
      "/kaggle/input/mens-machine-learning-competition-2018/Events_2014.csv\n",
      "/kaggle/input/mens-machine-learning-competition-2018/Seasons_SampleTourney2018.csv\n",
      "/kaggle/input/mens-machine-learning-competition-2018/Events_2016.csv\n",
      "/kaggle/input/mens-machine-learning-competition-2018/Events_2015.csv\n",
      "/kaggle/input/mens-machine-learning-competition-2018/MasseyOrdinals_Prelim2018.csv\n",
      "/kaggle/input/mens-machine-learning-competition-2018/NCAATourneySlots.csv\n",
      "/kaggle/input/mens-machine-learning-competition-2018/Players_2015.csv\n",
      "/kaggle/input/mens-machine-learning-competition-2018/TeamConferences.csv\n",
      "/kaggle/input/mens-machine-learning-competition-2018/Players_2014.csv\n",
      "/kaggle/input/mens-machine-learning-competition-2018/NCAATourneySeeds_SampleTourney2018.csv\n",
      "/kaggle/input/mens-machine-learning-competition-2018/SampleSubmissionStage1.csv\n",
      "/kaggle/input/mens-machine-learning-competition-2018/Bracket_SampleTourney2018.png\n",
      "/kaggle/input/mens-machine-learning-competition-2018/NCAATourneySeedRoundSlots.csv\n",
      "/kaggle/input/mens-machine-learning-competition-2018/Players_2016.csv\n",
      "/kaggle/input/mens-machine-learning-competition-2018/DataFiles/Conferences.csv\n",
      "/kaggle/input/mens-machine-learning-competition-2018/DataFiles/GameCities.csv\n",
      "/kaggle/input/mens-machine-learning-competition-2018/DataFiles/RegularSeasonCompactResults.csv\n",
      "/kaggle/input/mens-machine-learning-competition-2018/DataFiles/NCAATourneyDetailedResults.csv\n",
      "/kaggle/input/mens-machine-learning-competition-2018/DataFiles/Teams.csv\n",
      "/kaggle/input/mens-machine-learning-competition-2018/DataFiles/SecondaryTourneyCompactResults.csv\n",
      "/kaggle/input/mens-machine-learning-competition-2018/DataFiles/TeamSpellings.csv\n",
      "/kaggle/input/mens-machine-learning-competition-2018/DataFiles/Seasons.csv\n",
      "/kaggle/input/mens-machine-learning-competition-2018/DataFiles/SecondaryTourneyTeams.csv\n",
      "/kaggle/input/mens-machine-learning-competition-2018/DataFiles/ConferenceTourneyGames.csv\n",
      "/kaggle/input/mens-machine-learning-competition-2018/DataFiles/Cities.csv\n",
      "/kaggle/input/mens-machine-learning-competition-2018/DataFiles/TeamCoaches.csv\n",
      "/kaggle/input/mens-machine-learning-competition-2018/DataFiles/RegularSeasonDetailedResults.csv\n",
      "/kaggle/input/mens-machine-learning-competition-2018/DataFiles/NCAATourneyCompactResults.csv\n",
      "/kaggle/input/mens-machine-learning-competition-2018/DataFiles/NCAATourneySeeds.csv\n",
      "/kaggle/input/mens-machine-learning-competition-2018/DataFiles/NCAATourneySlots.csv\n",
      "/kaggle/input/mens-machine-learning-competition-2018/DataFiles/TeamConferences.csv\n",
      "/kaggle/input/mens-machine-learning-competition-2018/DataFiles/NCAATourneySeedRoundSlots.csv\n",
      "/kaggle/input/mens-machine-learning-competition-2018/PlayByPlay_2010/Events_2010.csv\n",
      "/kaggle/input/mens-machine-learning-competition-2018/PlayByPlay_2010/Players_2010.csv\n",
      "/kaggle/input/mens-machine-learning-competition-2018/PlayByPlay_2015/Events_2015.csv\n",
      "/kaggle/input/mens-machine-learning-competition-2018/PlayByPlay_2015/Players_2015.csv\n",
      "/kaggle/input/mens-machine-learning-competition-2018/SampleTourney2018/NCAATourneySlots_SampleTourney2018.csv\n",
      "/kaggle/input/mens-machine-learning-competition-2018/SampleTourney2018/SampleSubmissionStage2_SampleTourney2018.csv\n",
      "/kaggle/input/mens-machine-learning-competition-2018/SampleTourney2018/Seasons_SampleTourney2018.csv\n",
      "/kaggle/input/mens-machine-learning-competition-2018/SampleTourney2018/NCAATourneySeeds_SampleTourney2018.csv\n",
      "/kaggle/input/mens-machine-learning-competition-2018/SampleTourney2018/Bracket_SampleTourney2018.png\n",
      "/kaggle/input/mens-machine-learning-competition-2018/MasseyOrdinals_thruSeason2018_Day128/MasseyOrdinals_thruSeason2018_Day128.csv\n",
      "/kaggle/input/mens-machine-learning-competition-2018/PlayByPlay_2014/Events_2014.csv\n",
      "/kaggle/input/mens-machine-learning-competition-2018/PlayByPlay_2014/Players_2014.csv\n",
      "/kaggle/input/mens-machine-learning-competition-2018/Stage2UnchangedDataFiles/Conferences.csv\n",
      "/kaggle/input/mens-machine-learning-competition-2018/Stage2UnchangedDataFiles/NCAATourneyDetailedResults.csv\n",
      "/kaggle/input/mens-machine-learning-competition-2018/Stage2UnchangedDataFiles/Teams.csv\n",
      "/kaggle/input/mens-machine-learning-competition-2018/Stage2UnchangedDataFiles/SecondaryTourneyCompactResults.csv\n",
      "/kaggle/input/mens-machine-learning-competition-2018/Stage2UnchangedDataFiles/TeamSpellings.csv\n",
      "/kaggle/input/mens-machine-learning-competition-2018/Stage2UnchangedDataFiles/SecondaryTourneyTeams.csv\n",
      "/kaggle/input/mens-machine-learning-competition-2018/Stage2UnchangedDataFiles/NCAATourneyCompactResults.csv\n",
      "/kaggle/input/mens-machine-learning-competition-2018/Stage2UnchangedDataFiles/TeamConferences.csv\n",
      "/kaggle/input/mens-machine-learning-competition-2018/Stage2UnchangedDataFiles/NCAATourneySeedRoundSlots.csv\n",
      "/kaggle/input/mens-machine-learning-competition-2018/PlayByPlay_2011/Events_2011.csv\n",
      "/kaggle/input/mens-machine-learning-competition-2018/PlayByPlay_2011/Players_2011.csv\n",
      "/kaggle/input/mens-machine-learning-competition-2018/PrelimData2018/TeamCoaches_Prelim2018.csv\n",
      "/kaggle/input/mens-machine-learning-competition-2018/PrelimData2018/RegularSeasonDetailedResults_Prelim2018.csv\n",
      "/kaggle/input/mens-machine-learning-competition-2018/PrelimData2018/Events_Prelim2018.csv\n",
      "/kaggle/input/mens-machine-learning-competition-2018/PrelimData2018/RegularSeasonCompactResults_Prelim2018.csv\n",
      "/kaggle/input/mens-machine-learning-competition-2018/PrelimData2018/GameCities_Prelim2018.csv\n",
      "/kaggle/input/mens-machine-learning-competition-2018/PrelimData2018/Cities_Prelim2018.csv\n",
      "/kaggle/input/mens-machine-learning-competition-2018/PrelimData2018/Players_Prelim2018.csv\n",
      "/kaggle/input/mens-machine-learning-competition-2018/PrelimData2018/MasseyOrdinals_Prelim2018.csv\n",
      "/kaggle/input/mens-machine-learning-competition-2018/PlayByPlay_2013/Events_2013.csv\n",
      "/kaggle/input/mens-machine-learning-competition-2018/PlayByPlay_2013/Players_2013.csv\n",
      "/kaggle/input/mens-machine-learning-competition-2018/Stage2UpdatedDataFiles/GameCities.csv\n",
      "/kaggle/input/mens-machine-learning-competition-2018/Stage2UpdatedDataFiles/RegularSeasonCompactResults.csv\n",
      "/kaggle/input/mens-machine-learning-competition-2018/Stage2UpdatedDataFiles/Seasons.csv\n",
      "/kaggle/input/mens-machine-learning-competition-2018/Stage2UpdatedDataFiles/ConferenceTourneyGames.csv\n",
      "/kaggle/input/mens-machine-learning-competition-2018/Stage2UpdatedDataFiles/Cities.csv\n",
      "/kaggle/input/mens-machine-learning-competition-2018/Stage2UpdatedDataFiles/TeamCoaches.csv\n",
      "/kaggle/input/mens-machine-learning-competition-2018/Stage2UpdatedDataFiles/RegularSeasonDetailedResults.csv\n",
      "/kaggle/input/mens-machine-learning-competition-2018/Stage2UpdatedDataFiles/NCAATourneySeeds.csv\n",
      "/kaggle/input/mens-machine-learning-competition-2018/Stage2UpdatedDataFiles/NCAATourneySlots.csv\n",
      "/kaggle/input/mens-machine-learning-competition-2018/PlayByPlay_2016/Events_2016.csv\n",
      "/kaggle/input/mens-machine-learning-competition-2018/PlayByPlay_2016/Players_2016.csv\n",
      "/kaggle/input/mens-machine-learning-competition-2018/PlayByPlay_2017/Players_2017.csv\n",
      "/kaggle/input/mens-machine-learning-competition-2018/PlayByPlay_2017/Events_2017.csv\n",
      "/kaggle/input/mens-machine-learning-competition-2018/PlayByPlay_2018/Players_2018.csv\n",
      "/kaggle/input/mens-machine-learning-competition-2018/PlayByPlay_2018/Events_2018.csv\n",
      "/kaggle/input/mens-machine-learning-competition-2018/MasseyOrdinals/MasseyOrdinals.csv\n",
      "/kaggle/input/mens-machine-learning-competition-2018/PlayByPlay_2012/Players_2012.csv\n",
      "/kaggle/input/mens-machine-learning-competition-2018/PlayByPlay_2012/Events_2012.csv\n"
     ]
    }
   ],
   "source": [
    "#Import necessary libraries\n",
    "\n",
    "import pandas as pd\n",
    "from sklearn.model_selection import train_test_split\n",
    "from sklearn.linear_model import LogisticRegression\n",
    "from sklearn.metrics import log_loss\n",
    "import numpy as np\n",
    "\n",
    "import os\n",
    "for dirname, _, filenames in os.walk('/kaggle/input'):\n",
    "    for filename in filenames:\n",
    "        print(os.path.join(dirname, filename))\n",
    "\n",
    "# You can write up to 20GB to the current directory (/kaggle/working/) that gets preserved as output when you create a version using \"Save & Run All\" \n",
    "# You can also write temporary files to /kaggle/temp/, but they won't be saved outside of the current session"
   ]
  },
  {
   "cell_type": "code",
   "execution_count": 2,
   "id": "9b582888",
   "metadata": {
    "execution": {
     "iopub.execute_input": "2025-08-06T15:53:23.007193Z",
     "iopub.status.busy": "2025-08-06T15:53:23.006603Z",
     "iopub.status.idle": "2025-08-06T15:53:23.045368Z",
     "shell.execute_reply": "2025-08-06T15:53:23.043978Z"
    },
    "papermill": {
     "duration": 0.045612,
     "end_time": "2025-08-06T15:53:23.047548",
     "exception": false,
     "start_time": "2025-08-06T15:53:23.001936",
     "status": "completed"
    },
    "tags": []
   },
   "outputs": [
    {
     "data": {
      "text/html": [
       "<div>\n",
       "<style scoped>\n",
       "    .dataframe tbody tr th:only-of-type {\n",
       "        vertical-align: middle;\n",
       "    }\n",
       "\n",
       "    .dataframe tbody tr th {\n",
       "        vertical-align: top;\n",
       "    }\n",
       "\n",
       "    .dataframe thead th {\n",
       "        text-align: right;\n",
       "    }\n",
       "</style>\n",
       "<table border=\"1\" class=\"dataframe\">\n",
       "  <thead>\n",
       "    <tr style=\"text-align: right;\">\n",
       "      <th></th>\n",
       "      <th>team_a_id</th>\n",
       "      <th>team_b_id</th>\n",
       "      <th>team_a_rating</th>\n",
       "      <th>team_b_rating</th>\n",
       "      <th>home_court_advantage</th>\n",
       "      <th>team_a_won</th>\n",
       "    </tr>\n",
       "  </thead>\n",
       "  <tbody>\n",
       "    <tr>\n",
       "      <th>0</th>\n",
       "      <td>1</td>\n",
       "      <td>17</td>\n",
       "      <td>85</td>\n",
       "      <td>70</td>\n",
       "      <td>1</td>\n",
       "      <td>1</td>\n",
       "    </tr>\n",
       "    <tr>\n",
       "      <th>1</th>\n",
       "      <td>2</td>\n",
       "      <td>18</td>\n",
       "      <td>92</td>\n",
       "      <td>85</td>\n",
       "      <td>0</td>\n",
       "      <td>1</td>\n",
       "    </tr>\n",
       "    <tr>\n",
       "      <th>2</th>\n",
       "      <td>3</td>\n",
       "      <td>19</td>\n",
       "      <td>78</td>\n",
       "      <td>80</td>\n",
       "      <td>0</td>\n",
       "      <td>0</td>\n",
       "    </tr>\n",
       "    <tr>\n",
       "      <th>3</th>\n",
       "      <td>4</td>\n",
       "      <td>20</td>\n",
       "      <td>88</td>\n",
       "      <td>90</td>\n",
       "      <td>1</td>\n",
       "      <td>0</td>\n",
       "    </tr>\n",
       "    <tr>\n",
       "      <th>4</th>\n",
       "      <td>5</td>\n",
       "      <td>21</td>\n",
       "      <td>95</td>\n",
       "      <td>82</td>\n",
       "      <td>1</td>\n",
       "      <td>1</td>\n",
       "    </tr>\n",
       "    <tr>\n",
       "      <th>5</th>\n",
       "      <td>6</td>\n",
       "      <td>22</td>\n",
       "      <td>80</td>\n",
       "      <td>75</td>\n",
       "      <td>0</td>\n",
       "      <td>1</td>\n",
       "    </tr>\n",
       "    <tr>\n",
       "      <th>6</th>\n",
       "      <td>7</td>\n",
       "      <td>23</td>\n",
       "      <td>89</td>\n",
       "      <td>92</td>\n",
       "      <td>1</td>\n",
       "      <td>0</td>\n",
       "    </tr>\n",
       "    <tr>\n",
       "      <th>7</th>\n",
       "      <td>8</td>\n",
       "      <td>24</td>\n",
       "      <td>75</td>\n",
       "      <td>70</td>\n",
       "      <td>0</td>\n",
       "      <td>1</td>\n",
       "    </tr>\n",
       "    <tr>\n",
       "      <th>8</th>\n",
       "      <td>9</td>\n",
       "      <td>25</td>\n",
       "      <td>91</td>\n",
       "      <td>88</td>\n",
       "      <td>1</td>\n",
       "      <td>1</td>\n",
       "    </tr>\n",
       "    <tr>\n",
       "      <th>9</th>\n",
       "      <td>10</td>\n",
       "      <td>26</td>\n",
       "      <td>84</td>\n",
       "      <td>86</td>\n",
       "      <td>0</td>\n",
       "      <td>0</td>\n",
       "    </tr>\n",
       "    <tr>\n",
       "      <th>10</th>\n",
       "      <td>11</td>\n",
       "      <td>27</td>\n",
       "      <td>93</td>\n",
       "      <td>77</td>\n",
       "      <td>1</td>\n",
       "      <td>1</td>\n",
       "    </tr>\n",
       "    <tr>\n",
       "      <th>11</th>\n",
       "      <td>12</td>\n",
       "      <td>28</td>\n",
       "      <td>79</td>\n",
       "      <td>81</td>\n",
       "      <td>0</td>\n",
       "      <td>0</td>\n",
       "    </tr>\n",
       "    <tr>\n",
       "      <th>12</th>\n",
       "      <td>13</td>\n",
       "      <td>29</td>\n",
       "      <td>87</td>\n",
       "      <td>84</td>\n",
       "      <td>0</td>\n",
       "      <td>0</td>\n",
       "    </tr>\n",
       "    <tr>\n",
       "      <th>13</th>\n",
       "      <td>14</td>\n",
       "      <td>30</td>\n",
       "      <td>90</td>\n",
       "      <td>89</td>\n",
       "      <td>1</td>\n",
       "      <td>1</td>\n",
       "    </tr>\n",
       "    <tr>\n",
       "      <th>14</th>\n",
       "      <td>15</td>\n",
       "      <td>31</td>\n",
       "      <td>83</td>\n",
       "      <td>76</td>\n",
       "      <td>1</td>\n",
       "      <td>1</td>\n",
       "    </tr>\n",
       "    <tr>\n",
       "      <th>15</th>\n",
       "      <td>16</td>\n",
       "      <td>32</td>\n",
       "      <td>96</td>\n",
       "      <td>74</td>\n",
       "      <td>0</td>\n",
       "      <td>1</td>\n",
       "    </tr>\n",
       "  </tbody>\n",
       "</table>\n",
       "</div>"
      ],
      "text/plain": [
       "    team_a_id  team_b_id  team_a_rating  team_b_rating  home_court_advantage  \\\n",
       "0           1         17             85             70                     1   \n",
       "1           2         18             92             85                     0   \n",
       "2           3         19             78             80                     0   \n",
       "3           4         20             88             90                     1   \n",
       "4           5         21             95             82                     1   \n",
       "5           6         22             80             75                     0   \n",
       "6           7         23             89             92                     1   \n",
       "7           8         24             75             70                     0   \n",
       "8           9         25             91             88                     1   \n",
       "9          10         26             84             86                     0   \n",
       "10         11         27             93             77                     1   \n",
       "11         12         28             79             81                     0   \n",
       "12         13         29             87             84                     0   \n",
       "13         14         30             90             89                     1   \n",
       "14         15         31             83             76                     1   \n",
       "15         16         32             96             74                     0   \n",
       "\n",
       "    team_a_won  \n",
       "0            1  \n",
       "1            1  \n",
       "2            0  \n",
       "3            0  \n",
       "4            1  \n",
       "5            1  \n",
       "6            0  \n",
       "7            1  \n",
       "8            1  \n",
       "9            0  \n",
       "10           1  \n",
       "11           0  \n",
       "12           0  \n",
       "13           1  \n",
       "14           1  \n",
       "15           1  "
      ]
     },
     "execution_count": 2,
     "metadata": {},
     "output_type": "execute_result"
    }
   ],
   "source": [
    "# Preparing Data \n",
    "# This dataset now includes a 'home_court' feature.\n",
    "data = {\n",
    "    'team_a_id': [1, 2, 3, 4, 5, 6, 7, 8, 9, 10, 11, 12, 13, 14, 15, 16],\n",
    "    'team_b_id': [17, 18, 19, 20, 21, 22, 23, 24, 25, 26, 27, 28, 29, 30, 31, 32],\n",
    "    'team_a_rating': [85, 92, 78, 88, 95, 80, 89, 75, 91, 84, 93, 79, 87, 90, 83, 96],\n",
    "    'team_b_rating': [70, 85, 80, 90, 82, 75, 92, 70, 88, 86, 77, 81, 84, 89, 76, 74],\n",
    "    'home_court_advantage': [1, 0, 0, 1, 1, 0, 1, 0, 1, 0, 1, 0, 0, 1, 1, 0], # 1 if team A is home, 0 otherwise\n",
    "    'team_a_won': [1, 1, 0, 0, 1, 1, 0, 1, 1, 0, 1, 0, 0, 1, 1, 1] # 1 if team A won, 0 otherwise\n",
    "}\n",
    "df = pd.DataFrame(data)\n",
    "df"
   ]
  },
  {
   "cell_type": "code",
   "execution_count": 3,
   "id": "ba98ea89",
   "metadata": {
    "execution": {
     "iopub.execute_input": "2025-08-06T15:53:23.059082Z",
     "iopub.status.busy": "2025-08-06T15:53:23.058554Z",
     "iopub.status.idle": "2025-08-06T15:53:23.066480Z",
     "shell.execute_reply": "2025-08-06T15:53:23.065692Z"
    },
    "papermill": {
     "duration": 0.014192,
     "end_time": "2025-08-06T15:53:23.067915",
     "exception": false,
     "start_time": "2025-08-06T15:53:23.053723",
     "status": "completed"
    },
    "tags": []
   },
   "outputs": [
    {
     "name": "stdout",
     "output_type": "stream",
     "text": [
      "Original Data with Home Court Advantage:\n",
      "    team_a_id  team_b_id  team_a_rating  team_b_rating  home_court_advantage  \\\n",
      "0           1         17             85             70                     1   \n",
      "1           2         18             92             85                     0   \n",
      "2           3         19             78             80                     0   \n",
      "3           4         20             88             90                     1   \n",
      "4           5         21             95             82                     1   \n",
      "5           6         22             80             75                     0   \n",
      "6           7         23             89             92                     1   \n",
      "7           8         24             75             70                     0   \n",
      "8           9         25             91             88                     1   \n",
      "9          10         26             84             86                     0   \n",
      "10         11         27             93             77                     1   \n",
      "11         12         28             79             81                     0   \n",
      "12         13         29             87             84                     0   \n",
      "13         14         30             90             89                     1   \n",
      "14         15         31             83             76                     1   \n",
      "15         16         32             96             74                     0   \n",
      "\n",
      "    team_a_won  \n",
      "0            1  \n",
      "1            1  \n",
      "2            0  \n",
      "3            0  \n",
      "4            1  \n",
      "5            1  \n",
      "6            0  \n",
      "7            1  \n",
      "8            1  \n",
      "9            0  \n",
      "10           1  \n",
      "11           0  \n",
      "12           0  \n",
      "13           1  \n",
      "14           1  \n",
      "15           1  \n",
      "\n",
      "==================================================\n",
      "\n"
     ]
    }
   ],
   "source": [
    "#Showing Data \n",
    "\n",
    "print(\"Original Data with Home Court Advantage:\")\n",
    "print(df)\n",
    "print(\"\\n\" + \"=\"*50 + \"\\n\")"
   ]
  },
  {
   "cell_type": "code",
   "execution_count": 4,
   "id": "7f058bd4",
   "metadata": {
    "execution": {
     "iopub.execute_input": "2025-08-06T15:53:23.077629Z",
     "iopub.status.busy": "2025-08-06T15:53:23.077279Z",
     "iopub.status.idle": "2025-08-06T15:53:23.099434Z",
     "shell.execute_reply": "2025-08-06T15:53:23.098299Z"
    },
    "papermill": {
     "duration": 0.028335,
     "end_time": "2025-08-06T15:53:23.100830",
     "exception": false,
     "start_time": "2025-08-06T15:53:23.072495",
     "status": "completed"
    },
    "tags": []
   },
   "outputs": [],
   "source": [
    "# Feature Engineering \n",
    "\n",
    "# We now use both rating difference and home court advantage as features. \n",
    "\n",
    "\n",
    "df['rating_diff'] = df['team_a_rating'] - df['team_b_rating']\n",
    "\n",
    "df['rating_diff'] # # Instead of giving the model two separate ratings (team_a_rating and team_b_rating) and forcing it to learn how to compare them, you provide a single feature that directly represents the difference in their strengths\n",
    "# Our features now include rating difference and home court.\n",
    "X = df[['rating_diff', 'home_court_advantage']]\n",
    "y = df['team_a_won'] \n",
    "\n"
   ]
  },
  {
   "cell_type": "markdown",
   "id": "b6aed002",
   "metadata": {
    "papermill": {
     "duration": 0.003372,
     "end_time": "2025-08-06T15:53:23.107923",
     "exception": false,
     "start_time": "2025-08-06T15:53:23.104551",
     "status": "completed"
    },
    "tags": []
   },
   "source": [
    "Using the team_a_id and team_b_id directly as features is not a good practice for this type of model. The reason is that these IDs are just arbitrary numbers used to identify the teams. They don't have any inherent value or meaning that the model can learn from \n",
    "the model needs features that actually represent the teams' strengths and the context of the matchup. This is why the code uses features like rating_diff and home_court_advantage. These features provide the model with a quantitative measure of how the teams compare, allowing it to learn the patterns that lead to a win or a loss."
   ]
  },
  {
   "cell_type": "code",
   "execution_count": 5,
   "id": "38412e39",
   "metadata": {
    "execution": {
     "iopub.execute_input": "2025-08-06T15:53:23.116051Z",
     "iopub.status.busy": "2025-08-06T15:53:23.115717Z",
     "iopub.status.idle": "2025-08-06T15:53:23.122896Z",
     "shell.execute_reply": "2025-08-06T15:53:23.122145Z"
    },
    "papermill": {
     "duration": 0.012898,
     "end_time": "2025-08-06T15:53:23.124329",
     "exception": false,
     "start_time": "2025-08-06T15:53:23.111431",
     "status": "completed"
    },
    "tags": []
   },
   "outputs": [
    {
     "data": {
      "text/plain": [
       "(    rating_diff  home_court_advantage\n",
       " 0            15                     1\n",
       " 1             7                     0\n",
       " 2            -2                     0\n",
       " 3            -2                     1\n",
       " 4            13                     1\n",
       " 5             5                     0\n",
       " 6            -3                     1\n",
       " 7             5                     0\n",
       " 8             3                     1\n",
       " 9            -2                     0\n",
       " 10           16                     1\n",
       " 11           -2                     0\n",
       " 12            3                     0\n",
       " 13            1                     1\n",
       " 14            7                     1\n",
       " 15           22                     0,\n",
       " 0     1\n",
       " 1     1\n",
       " 2     0\n",
       " 3     0\n",
       " 4     1\n",
       " 5     1\n",
       " 6     0\n",
       " 7     1\n",
       " 8     1\n",
       " 9     0\n",
       " 10    1\n",
       " 11    0\n",
       " 12    0\n",
       " 13    1\n",
       " 14    1\n",
       " 15    1\n",
       " Name: team_a_won, dtype: int64)"
      ]
     },
     "execution_count": 5,
     "metadata": {},
     "output_type": "execute_result"
    }
   ],
   "source": [
    "# the Final data will be \n",
    "\n",
    "# X for Features and y for Output \n",
    "\n",
    "X , y"
   ]
  },
  {
   "cell_type": "code",
   "execution_count": 6,
   "id": "afc80b38",
   "metadata": {
    "execution": {
     "iopub.execute_input": "2025-08-06T15:53:23.133811Z",
     "iopub.status.busy": "2025-08-06T15:53:23.133173Z",
     "iopub.status.idle": "2025-08-06T15:53:23.151416Z",
     "shell.execute_reply": "2025-08-06T15:53:23.150493Z"
    },
    "papermill": {
     "duration": 0.024382,
     "end_time": "2025-08-06T15:53:23.152850",
     "exception": false,
     "start_time": "2025-08-06T15:53:23.128468",
     "status": "completed"
    },
    "tags": []
   },
   "outputs": [
    {
     "data": {
      "text/plain": [
       "(    rating_diff  home_court_advantage\n",
       " 4            13                     1\n",
       " 14            7                     1\n",
       " 2            -2                     0\n",
       " 8             3                     1\n",
       " 0            15                     1\n",
       " 6            -3                     1\n",
       " 3            -2                     1\n",
       " 15           22                     0\n",
       " 13            1                     1\n",
       " 12            3                     0\n",
       " 1             7                     0\n",
       " 5             5                     0,\n",
       "     rating_diff  home_court_advantage\n",
       " 11           -2                     0\n",
       " 10           16                     1\n",
       " 9            -2                     0\n",
       " 7             5                     0,\n",
       " 4     1\n",
       " 14    1\n",
       " 2     0\n",
       " 8     1\n",
       " 0     1\n",
       " 6     0\n",
       " 3     0\n",
       " 15    1\n",
       " 13    1\n",
       " 12    0\n",
       " 1     1\n",
       " 5     1\n",
       " Name: team_a_won, dtype: int64,\n",
       " 11    0\n",
       " 10    1\n",
       " 9     0\n",
       " 7     1\n",
       " Name: team_a_won, dtype: int64)"
      ]
     },
     "execution_count": 6,
     "metadata": {},
     "output_type": "execute_result"
    }
   ],
   "source": [
    "# Split the data into training and testing data.\n",
    "X_train, X_test, y_train, y_test = train_test_split(X, y, test_size=0.2, random_state=42, stratify=y)\n",
    "\n",
    "X_train, X_test, y_train, y_test"
   ]
  },
  {
   "cell_type": "markdown",
   "id": "217d2047",
   "metadata": {
    "papermill": {
     "duration": 0.003608,
     "end_time": "2025-08-06T15:53:23.160364",
     "exception": false,
     "start_time": "2025-08-06T15:53:23.156756",
     "status": "completed"
    },
    "tags": []
   },
   "source": []
  },
  {
   "cell_type": "code",
   "execution_count": 7,
   "id": "51198428",
   "metadata": {
    "execution": {
     "iopub.execute_input": "2025-08-06T15:53:23.169091Z",
     "iopub.status.busy": "2025-08-06T15:53:23.168796Z",
     "iopub.status.idle": "2025-08-06T15:53:23.197154Z",
     "shell.execute_reply": "2025-08-06T15:53:23.195269Z"
    },
    "papermill": {
     "duration": 0.035068,
     "end_time": "2025-08-06T15:53:23.199180",
     "exception": false,
     "start_time": "2025-08-06T15:53:23.164112",
     "status": "completed"
    },
    "tags": []
   },
   "outputs": [
    {
     "name": "stdout",
     "output_type": "stream",
     "text": [
      "Model training complete.\n",
      "Model coefficients: [[0.66841342 0.58189486]]\n",
      "\n",
      "==================================================\n",
      "\n"
     ]
    }
   ],
   "source": [
    "# Train a Machine Learning Model ---\n",
    "# We'll use Logistic Regression for this example.\n",
    "model = LogisticRegression()\n",
    "model.fit(X_train, y_train)\n",
    "\n",
    "print(\"Model training complete.\")\n",
    "print(\"Model coefficients:\", model.coef_)\n",
    "print(\"\\n\" + \"=\"*50 + \"\\n\")\n"
   ]
  },
  {
   "cell_type": "markdown",
   "id": "8864c61a",
   "metadata": {
    "papermill": {
     "duration": 0.005773,
     "end_time": "2025-08-06T15:53:23.211160",
     "exception": false,
     "start_time": "2025-08-06T15:53:23.205387",
     "status": "completed"
    },
    "tags": []
   },
   "source": [
    "> The purpose of these coefficients is to show the relationship between each feature and the predicted outcome. In this model, you would have two coefficients: one for rating_diff and one for home_court_advantage.\n",
    "\n",
    ">A positive coefficient for rating_diff means that a larger rating difference increases the probability of Team A winning.\n",
    "\n",
    ">A positive coefficient for home_court_advantage means that playing at home increases the probability of Team A winning.\n",
    "\n",
    ">The model calculates the optimal values for these coefficients to make the most accurate predictions possible. The magnitude of the coefficient tells you how much each feature influences the outcome, with larger values indicating a stronger influence."
   ]
  },
  {
   "cell_type": "code",
   "execution_count": 8,
   "id": "446aa8a0",
   "metadata": {
    "execution": {
     "iopub.execute_input": "2025-08-06T15:53:23.227334Z",
     "iopub.status.busy": "2025-08-06T15:53:23.225764Z",
     "iopub.status.idle": "2025-08-06T15:53:23.242027Z",
     "shell.execute_reply": "2025-08-06T15:53:23.241293Z"
    },
    "papermill": {
     "duration": 0.026666,
     "end_time": "2025-08-06T15:53:23.243964",
     "exception": false,
     "start_time": "2025-08-06T15:53:23.217298",
     "status": "completed"
    },
    "tags": []
   },
   "outputs": [
    {
     "name": "stdout",
     "output_type": "stream",
     "text": [
      "Model Log Loss on Test Data: 0.0650\n",
      "\n",
      "==================================================\n",
      "\n"
     ]
    }
   ],
   "source": [
    "#  Make predictions and evaluate the model ---\n",
    "# For competition-style scoring, log loss is often used.\n",
    "y_pred_proba = model.predict_proba(X_test)[:, 1] # Get probabilities for Team A winning\n",
    "logloss_score = log_loss(y_test, y_pred_proba)\n",
    "\n",
    "y_pred_proba\n",
    "print(f\"Model Log Loss on Test Data: {logloss_score:.4f}\")\n",
    "print(\"\\n\" + \"=\"*50 + \"\\n\")"
   ]
  },
  {
   "cell_type": "markdown",
   "id": "0e5b8df9",
   "metadata": {
    "papermill": {
     "duration": 0.005925,
     "end_time": "2025-08-06T15:53:23.256296",
     "exception": false,
     "start_time": "2025-08-06T15:53:23.250371",
     "status": "completed"
    },
    "tags": []
   },
   "source": [
    "> Based on the logloss_score of 0.0613 from the Canvas, here is an interpretation of what that result means:\n",
    "\n",
    "> Log loss is a common metric in machine learning competitions like this, where the goal is to predict probabilities. The score ranges from 0 to infinity, and a perfect model would have a log loss of 0. A higher score indicates a worse-performing model.\n",
    "\n",
    "> A log loss score of 0.0613 is extremely low. This indicates that your model is performing exceptionally well on the test data. It is not only making correct predictions but is also doing so with high confidence, which is exactly what a competition like the March Madness one would reward. This score suggests that the features and model you've chosen are highly effective for this dataset."
   ]
  },
  {
   "cell_type": "code",
   "execution_count": 9,
   "id": "38b39e33",
   "metadata": {
    "execution": {
     "iopub.execute_input": "2025-08-06T15:53:23.270157Z",
     "iopub.status.busy": "2025-08-06T15:53:23.269816Z",
     "iopub.status.idle": "2025-08-06T15:53:23.281858Z",
     "shell.execute_reply": "2025-08-06T15:53:23.281049Z"
    },
    "papermill": {
     "duration": 0.021263,
     "end_time": "2025-08-06T15:53:23.283675",
     "exception": false,
     "start_time": "2025-08-06T15:53:23.262412",
     "status": "completed"
    },
    "tags": []
   },
   "outputs": [],
   "source": [
    "# Function to simulate a tournament ---\n",
    "def simulate_tournament(teams, model):\n",
    "    \"\"\"\n",
    "    Simulates a tournament bracket for a given set of teams using the trained model.\n",
    "    teams: a list of dictionaries, where each dict has 'id' and 'rating'.\n",
    "    model: the trained Logistic Regression model.\n",
    "    \"\"\"\n",
    "    if len(teams) % 2 != 0 or len(teams) == 0:\n",
    "        print(\"Invalid number of teams. Must be a power of 2.\")\n",
    "        return []\n",
    "\n",
    "    print(f\"Simulating a tournament with {len(teams)} teams...\")\n",
    "\n",
    "    round_teams = list(teams)\n",
    "    while len(round_teams) > 1:\n",
    "        winners = []\n",
    "        # Pair up teams for the current round\n",
    "        for i in range(0, len(round_teams), 2):\n",
    "            team_a = round_teams[i]\n",
    "            team_b = round_teams[i+1]\n",
    "            \n",
    "            # Predict the winner using our model (we assume no home-court advantage in a neutral tournament)\n",
    "            rating_diff = team_a['rating'] - team_b['rating']\n",
    "            matchup_features = pd.DataFrame({'rating_diff': [rating_diff], 'home_court_advantage': [0]})\n",
    "            \n",
    "            prob_a_wins = model.predict_proba(matchup_features)[0][1]\n",
    "\n",
    "            # The winner is the team with the higher probability of winning\n",
    "            winner = team_a if prob_a_wins > 0.5 else team_b\n",
    "\n",
    "            print(f\"Matchup: Team {team_a['id']} (rating: {team_a['rating']}) vs Team {team_b['id']} (rating: {team_b['rating']})\")\n",
    "            print(f\"  -> Predicted probability of Team {team_a['id']} winning: {prob_a_wins:.2f}\")\n",
    "            print(f\"  -> Winner: Team {winner['id']}\")\n",
    "            \n",
    "            winners.append(winner)\n",
    "\n",
    "        round_teams = winners\n",
    "        print(\"-\" * 20)\n",
    "    \n",
    "    return round_teams[0]\n"
   ]
  },
  {
   "cell_type": "code",
   "execution_count": 10,
   "id": "8a0a70f4",
   "metadata": {
    "execution": {
     "iopub.execute_input": "2025-08-06T15:53:23.297764Z",
     "iopub.status.busy": "2025-08-06T15:53:23.297421Z",
     "iopub.status.idle": "2025-08-06T15:53:23.323926Z",
     "shell.execute_reply": "2025-08-06T15:53:23.322893Z"
    },
    "papermill": {
     "duration": 0.035505,
     "end_time": "2025-08-06T15:53:23.325843",
     "exception": false,
     "start_time": "2025-08-06T15:53:23.290338",
     "status": "completed"
    },
    "tags": []
   },
   "outputs": [
    {
     "name": "stdout",
     "output_type": "stream",
     "text": [
      "Simulating a tournament with 8 teams...\n",
      "Matchup: Team 1 (rating: 95) vs Team 2 (rating: 80)\n",
      "  -> Predicted probability of Team 1 winning: 1.00\n",
      "  -> Winner: Team 1\n",
      "Matchup: Team 3 (rating: 90) vs Team 4 (rating: 85)\n",
      "  -> Predicted probability of Team 3 winning: 0.88\n",
      "  -> Winner: Team 3\n",
      "Matchup: Team 5 (rating: 75) vs Team 6 (rating: 88)\n",
      "  -> Predicted probability of Team 5 winning: 0.00\n",
      "  -> Winner: Team 6\n",
      "Matchup: Team 7 (rating: 92) vs Team 8 (rating: 70)\n",
      "  -> Predicted probability of Team 7 winning: 1.00\n",
      "  -> Winner: Team 7\n",
      "--------------------\n",
      "Matchup: Team 1 (rating: 95) vs Team 3 (rating: 90)\n",
      "  -> Predicted probability of Team 1 winning: 0.88\n",
      "  -> Winner: Team 1\n",
      "Matchup: Team 6 (rating: 88) vs Team 7 (rating: 92)\n",
      "  -> Predicted probability of Team 6 winning: 0.02\n",
      "  -> Winner: Team 7\n",
      "--------------------\n",
      "Matchup: Team 1 (rating: 95) vs Team 7 (rating: 92)\n",
      "  -> Predicted probability of Team 1 winning: 0.67\n",
      "  -> Winner: Team 1\n",
      "--------------------\n",
      "\n",
      "Tournament Champion: Team 1 with a rating of 95\n"
     ]
    }
   ],
   "source": [
    "# Example Tournament Simulation ---\n",
    "# Define a set of teams for a small, 8-team tournament\n",
    "tournament_teams = [\n",
    "    {'id': 1, 'rating': 95}, {'id': 2, 'rating': 80},\n",
    "    {'id': 3, 'rating': 90}, {'id': 4, 'rating': 85},\n",
    "    {'id': 5, 'rating': 75}, {'id': 6, 'rating': 88},\n",
    "    {'id': 7, 'rating': 92}, {'id': 8, 'rating': 70},\n",
    "]\n",
    "\n",
    "champion = simulate_tournament(tournament_teams, model)\n",
    "print(f\"\\nTournament Champion: Team {champion['id']} with a rating of {champion['rating']}\")\n"
   ]
  },
  {
   "cell_type": "code",
   "execution_count": null,
   "id": "cf1794c3",
   "metadata": {
    "papermill": {
     "duration": 0.003709,
     "end_time": "2025-08-06T15:53:23.334353",
     "exception": false,
     "start_time": "2025-08-06T15:53:23.330644",
     "status": "completed"
    },
    "tags": []
   },
   "outputs": [],
   "source": []
  }
 ],
 "metadata": {
  "kaggle": {
   "accelerator": "none",
   "dataSources": [
    {
     "databundleVersionId": 874897,
     "sourceId": 8310,
     "sourceType": "competition"
    }
   ],
   "dockerImageVersionId": 31089,
   "isGpuEnabled": false,
   "isInternetEnabled": true,
   "language": "python",
   "sourceType": "notebook"
  },
  "kernelspec": {
   "display_name": "Python 3",
   "language": "python",
   "name": "python3"
  },
  "language_info": {
   "codemirror_mode": {
    "name": "ipython",
    "version": 3
   },
   "file_extension": ".py",
   "mimetype": "text/x-python",
   "name": "python",
   "nbconvert_exporter": "python",
   "pygments_lexer": "ipython3",
   "version": "3.11.13"
  },
  "papermill": {
   "default_parameters": {},
   "duration": 9.690833,
   "end_time": "2025-08-06T15:53:24.059393",
   "environment_variables": {},
   "exception": null,
   "input_path": "__notebook__.ipynb",
   "output_path": "__notebook__.ipynb",
   "parameters": {},
   "start_time": "2025-08-06T15:53:14.368560",
   "version": "2.6.0"
  }
 },
 "nbformat": 4,
 "nbformat_minor": 5
}
